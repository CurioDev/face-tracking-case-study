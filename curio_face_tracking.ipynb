{
 "cells": [
  {
   "cell_type": "markdown",
   "id": "dcd8b55c",
   "metadata": {},
   "source": [
    "# Curio Face Tracking"
   ]
  },
  {
   "cell_type": "markdown",
   "id": "27a95b4e",
   "metadata": {},
   "source": [
    "This notebook is designed for the case study \"Interactive Robotics Learning: Implementing Face Tracking with Curio.\"\n",
    "\n",
    "The goal is to complete the face tracking algorithm by filling in the blanks within the main function. For each placeholder, you will choose the most appropriate option from a set of three provided choices.\n",
    "\n",
    "There is no single \"correct\" answer; the goal is to engage with the task and deepen your understanding of the face tracking algorithm.\n",
    "\n",
    "Please do not modify any other cells in the notebook."
   ]
  },
  {
   "cell_type": "markdown",
   "id": "4cb49ce4-0adc-4dcf-be24-2b136b63a71c",
   "metadata": {
    "jp-MarkdownHeadingCollapsed": true
   },
   "source": [
    "## Imports and Initialization"
   ]
  },
  {
   "cell_type": "code",
   "execution_count": null,
   "id": "a54a2fe3",
   "metadata": {},
   "outputs": [],
   "source": [
    "import sys\n",
    "import os\n",
    "\n",
    "# We need to have Curio Python library.\n",
    "module_path = os.path.abspath(os.path.join('..'))\n",
    "if module_path not in sys.path:\n",
    "    sys.path.append(module_path)\n",
    "\n",
    "import asyncio\n",
    "import numpy as np\n",
    "from curio import Curio\n",
    "import cv2\n",
    "from IPython.display import display, Image, clear_output\n",
    "from threading import Event, Thread\n",
    "import time\n",
    "import ipywidgets as widgets"
   ]
  },
  {
   "cell_type": "code",
   "execution_count": null,
   "id": "f8a8498d",
   "metadata": {},
   "outputs": [],
   "source": [
    "mac_address = \"XX:XX:XX:XX:XX:XX\" # Curio MAC address\n",
    "camera_ip = \"XXX.XXX.XXX.XXX\" # IP address of the smartphone camera\n",
    "camera_port = 4747 # Port of the smartphone camera\n",
    "\n",
    "commands = {\n",
    "    'forward': b\"go(50, 50, 1000);\\n\",\n",
    "    'back': b\"go(-50, -50, 1000);\\n\",\n",
    "    'right': b\"go(-50, 50, 1000);\\n\",\n",
    "    'left': b\"go(50, -50, 1000);\\n\",\n",
    "    'stop': b\"go(0, 0, 0);\\n\"\n",
    "}\n",
    "\n",
    "model_path = 'res10_300x300_ssd_iter_140000.caffemodel'\n",
    "config_path = 'deploy.prototxt'"
   ]
  },
  {
   "cell_type": "code",
   "execution_count": null,
   "id": "4c08e047",
   "metadata": {},
   "outputs": [],
   "source": [
    "curio = Curio(mac_address, camera_ip, camera_port)"
   ]
  },
  {
   "cell_type": "code",
   "execution_count": null,
   "id": "6c598a0a",
   "metadata": {},
   "outputs": [],
   "source": [
    "net = cv2.dnn.readNetFromCaffe(config_path, model_path)\n",
    "video_output = widgets.Image(format='jpeg')"
   ]
  },
  {
   "cell_type": "markdown",
   "id": "aedd0dec",
   "metadata": {
    "jp-MarkdownHeadingCollapsed": true
   },
   "source": [
    "## Helper Functions"
   ]
  },
  {
   "cell_type": "code",
   "execution_count": null,
   "id": "283308d6",
   "metadata": {},
   "outputs": [],
   "source": [
    "def blob_standard(frame):\n",
    "    return cv2.dnn.blobFromImage(frame, 1.0, (300, 300), [104, 117, 123], False, False)\n",
    "\n",
    "def blob_high_contrast(frame):\n",
    "    adjusted = cv2.convertScaleAbs(frame, alpha=1.2, beta=0)\n",
    "    return cv2.dnn.blobFromImage(adjusted, 1.0, (300, 300), [104, 117, 123], False, False)\n",
    "\n",
    "def blob_high_brightness(frame):\n",
    "    adjusted = cv2.convertScaleAbs(frame, alpha=0.8, beta=30)\n",
    "    return cv2.dnn.blobFromImage(adjusted, 1.0, (300, 300), [104, 117, 123], False, False)\n",
    "\n",
    "def frame_standard(frame):\n",
    "    return cv2.rotate(frame, cv2.ROTATE_90_CLOCKWISE)\n",
    "\n",
    "def frame_rotate_180(frame):\n",
    "    return cv2.rotate(frame, cv2.ROTATE_90_COUNTERCLOCKWISE)\n",
    "\n",
    "def frame_mirror(frame):\n",
    "    rotated_frame = cv2.rotate(frame, cv2.ROTATE_90_CLOCKWISE)\n",
    "    return cv2.flip(rotated_frame, 1)\n",
    "\n",
    "def detect_faces_standard(detections):\n",
    "    confidence_threshold=0.5\n",
    "    detected_faces = []\n",
    "    for i in range(detections.shape[2]):  \n",
    "        confidence = detections[0, 0, i, 2] \n",
    "        if confidence > confidence_threshold:\n",
    "            detected_faces.append(detections[0, 0, i]) \n",
    "    return detected_faces\n",
    "\n",
    "def detect_faces_high_confidence(detections):\n",
    "    confidence_threshold=0.9\n",
    "    detected_faces = []\n",
    "    for i in range(detections.shape[2]):  \n",
    "        confidence = detections[0, 0, i, 2] \n",
    "        if confidence > confidence_threshold:\n",
    "            detected_faces.append(detections[0, 0, i])\n",
    "    return detected_faces\n",
    "\n",
    "def detect_faces_low_confidence(detections):\n",
    "    confidence_threshold=0.1\n",
    "    detected_faces = []\n",
    "    for i in range(detections.shape[2]):\n",
    "        confidence = detections[0, 0, i, 2]\n",
    "        if confidence > confidence_threshold:\n",
    "            detected_faces.append(detections[0, 0, i])\n",
    "    return detected_faces\n",
    "\n",
    "def calculate_bounding_box_standard(detection, w, h):\n",
    "    box = detection[3:7] * np.array([w, h, w, h])\n",
    "    return box.astype(\"int\")\n",
    "\n",
    "def calculate_bounding_box_centered(detection, w, h):\n",
    "    box = (detection[3:7] * np.array([w, h, w, h])) + np.array([10, 10, -10, -10])\n",
    "    return box.astype(\"int\")\n",
    "\n",
    "def calculate_bounding_box_offset(detection, w, h):\n",
    "    x1, y1, x2, y2 = (detection[3:7] * np.array([w, h, w, h])).astype(\"int\")\n",
    "    return [x1 - 5, y1 - 5, x2 + 5, y2 + 5]\n",
    "\n",
    "def control_standard(face_center_x, frame_center_x):\n",
    "    if face_center_x < frame_center_x - 50:\n",
    "        return commands['left']\n",
    "    elif face_center_x > frame_center_x + 50:\n",
    "        return commands['right']\n",
    "    else:\n",
    "        return commands['stop']\n",
    "\n",
    "def control_slow_response(face_center_x, frame_center_x):\n",
    "    if face_center_x < frame_center_x - 100:\n",
    "        return commands['left']\n",
    "    elif face_center_x > frame_center_x + 100:\n",
    "        return commands['right']\n",
    "    else:\n",
    "        return commands['stop']\n",
    "\n",
    "def control_fast_response(face_center_x, frame_center_x):\n",
    "    if face_center_x < frame_center_x - 20:\n",
    "        return commands['left']\n",
    "    elif face_center_x > frame_center_x + 20:\n",
    "        return commands['right']\n",
    "    else:\n",
    "        return commands['stop']"
   ]
  },
  {
   "cell_type": "markdown",
   "id": "b635c74c",
   "metadata": {
    "jp-MarkdownHeadingCollapsed": true
   },
   "source": [
    "## Main Function"
   ]
  },
  {
   "cell_type": "code",
   "execution_count": null,
   "id": "888f94ad",
   "metadata": {},
   "outputs": [],
   "source": [
    "def display_stream(display_stop_event):\n",
    "    try:\n",
    "        last_command = None\n",
    "        while not display_stop_event.is_set():\n",
    "            frame = curio.get_frame()\n",
    "            if frame is not None:\n",
    "                # *** PARTICIPANTS: Choose a rotation function ***\n",
    "                rotated_frame = frame_standard(frame)\n",
    "                \n",
    "                # *** PARTICIPANTS: Choose a blob creation function ***\n",
    "                blob = blob_standard(rotated_frame)\n",
    "                net.setInput(blob)\n",
    "                \n",
    "                detections = net.forward()\n",
    "                (h, w) = rotated_frame.shape[:2]\n",
    "                \n",
    "                # *** PARTICIPANTS: Choose a face detection function ***\n",
    "                filtered_detections = detect_faces_standard(detections)\n",
    "                \n",
    "                for detection in filtered_detections:\n",
    "                    # *** PARTICIPANTS: Choose a bounding box calculation function ***\n",
    "                    box = calculate_bounding_box_standard(detection, w, h)\n",
    "                    (x1, y1, x2, y2) = box\n",
    "                    \n",
    "                    cv2.rectangle(rotated_frame, (x1, y1), (x2, y2), (255, 0, 0), 2)\n",
    "                    \n",
    "                    face_center_x = (x1 + x2) // 2\n",
    "                    frame_center_x = rotated_frame.shape[1] // 2\n",
    "                    \n",
    "                    # *** PARTICIPANTS: Choose a control function ***\n",
    "                    command = control_standard(face_center_x, frame_center_x)\n",
    "\n",
    "                    if command != last_command or command != commands['stop']:\n",
    "                        curio.send_command(command)\n",
    "                        last_command = command\n",
    "                \n",
    "                _, jpeg = cv2.imencode('.jpg', rotated_frame)\n",
    "                video_output.value = jpeg.tobytes()\n",
    "                \n",
    "            time.sleep(0.01)\n",
    "    except Exception as e:\n",
    "        print(f\"Error displaying stream: {e}\")"
   ]
  },
  {
   "cell_type": "markdown",
   "id": "a3421b09-5fe4-4dd6-a41b-34a6c55a0c4d",
   "metadata": {
    "jp-MarkdownHeadingCollapsed": true
   },
   "source": [
    "## Start Detection"
   ]
  },
  {
   "cell_type": "code",
   "execution_count": null,
   "id": "dc295869",
   "metadata": {},
   "outputs": [],
   "source": [
    "display_stop_event = Event()\n",
    "display_thread = Thread(target=display_stream, args=(display_stop_event,))\n",
    "display_thread.start()"
   ]
  },
  {
   "cell_type": "markdown",
   "id": "a535fd9c-8c90-4294-8f2e-b1ae2a5a976d",
   "metadata": {
    "jp-MarkdownHeadingCollapsed": true
   },
   "source": [
    "## Stop Detection"
   ]
  },
  {
   "cell_type": "code",
   "execution_count": null,
   "id": "863ded34",
   "metadata": {},
   "outputs": [],
   "source": [
    "display_stop_event.set()"
   ]
  },
  {
   "cell_type": "markdown",
   "id": "1ac4284e-f592-4e4c-8084-a22abf67eef9",
   "metadata": {
    "jp-MarkdownHeadingCollapsed": true
   },
   "source": [
    "## Display Output"
   ]
  },
  {
   "cell_type": "code",
   "execution_count": null,
   "id": "65b34c00",
   "metadata": {},
   "outputs": [],
   "source": [
    "display(video_output)"
   ]
  },
  {
   "cell_type": "markdown",
   "id": "eb5a27fc-6493-4ce7-8932-727d09345e9a",
   "metadata": {
    "jp-MarkdownHeadingCollapsed": true
   },
   "source": [
    "## Stop Curio"
   ]
  },
  {
   "cell_type": "code",
   "execution_count": null,
   "id": "e2b40c5b-dbef-4f7d-938d-a88a1c65bd20",
   "metadata": {},
   "outputs": [],
   "source": [
    "curio.stop()\n",
    "display_thread.join()"
   ]
  }
 ],
 "metadata": {
  "kernelspec": {
   "display_name": "Python 3 (ipykernel)",
   "language": "python",
   "name": "python3"
  },
  "language_info": {
   "codemirror_mode": {
    "name": "ipython",
    "version": 3
   },
   "file_extension": ".py",
   "mimetype": "text/x-python",
   "name": "python",
   "nbconvert_exporter": "python",
   "pygments_lexer": "ipython3",
   "version": "3.12.4"
  }
 },
 "nbformat": 4,
 "nbformat_minor": 5
}
